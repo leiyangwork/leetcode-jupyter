{
 "cells": [
  {
   "cell_type": "markdown",
   "metadata": {
    "toc": true
   },
   "source": [
    "<h1>Table of Contents<span class=\"tocSkip\"></span></h1>\n",
    "<div class=\"toc\"><ul class=\"toc-item\"><li><span><a href=\"#Problem-Description\" data-toc-modified-id=\"Problem-Description-1\"><span class=\"toc-item-num\">1&nbsp;&nbsp;</span>Problem Description</a></span></li><li><span><a href=\"#Solution\" data-toc-modified-id=\"Solution-2\"><span class=\"toc-item-num\">2&nbsp;&nbsp;</span>Solution</a></span><ul class=\"toc-item\"><li><span><a href=\"#Brute-force\" data-toc-modified-id=\"Brute-force-2.1\"><span class=\"toc-item-num\">2.1&nbsp;&nbsp;</span>Brute force</a></span><ul class=\"toc-item\"><li><span><a href=\"#Algorithm\" data-toc-modified-id=\"Algorithm-2.1.1\"><span class=\"toc-item-num\">2.1.1&nbsp;&nbsp;</span>Algorithm</a></span></li><li><span><a href=\"#Test\" data-toc-modified-id=\"Test-2.1.2\"><span class=\"toc-item-num\">2.1.2&nbsp;&nbsp;</span>Test</a></span><ul class=\"toc-item\"><li><span><a href=\"#Normal-case\" data-toc-modified-id=\"Normal-case-2.1.2.1\"><span class=\"toc-item-num\">2.1.2.1&nbsp;&nbsp;</span>Normal case</a></span></li><li><span><a href=\"#invalid-case\" data-toc-modified-id=\"invalid-case-2.1.2.2\"><span class=\"toc-item-num\">2.1.2.2&nbsp;&nbsp;</span>invalid case</a></span></li></ul></li></ul></li><li><span><a href=\"#Hash-table\" data-toc-modified-id=\"Hash-table-2.2\"><span class=\"toc-item-num\">2.2&nbsp;&nbsp;</span>Hash table</a></span><ul class=\"toc-item\"><li><span><a href=\"#Algorithm\" data-toc-modified-id=\"Algorithm-2.2.1\"><span class=\"toc-item-num\">2.2.1&nbsp;&nbsp;</span>Algorithm</a></span></li><li><span><a href=\"#Test\" data-toc-modified-id=\"Test-2.2.2\"><span class=\"toc-item-num\">2.2.2&nbsp;&nbsp;</span>Test</a></span><ul class=\"toc-item\"><li><span><a href=\"#Normal-case\" data-toc-modified-id=\"Normal-case-2.2.2.1\"><span class=\"toc-item-num\">2.2.2.1&nbsp;&nbsp;</span>Normal case</a></span></li><li><span><a href=\"#invalid-case\" data-toc-modified-id=\"invalid-case-2.2.2.2\"><span class=\"toc-item-num\">2.2.2.2&nbsp;&nbsp;</span>invalid case</a></span></li></ul></li></ul></li><li><span><a href=\"#Comparision\" data-toc-modified-id=\"Comparision-2.3\"><span class=\"toc-item-num\">2.3&nbsp;&nbsp;</span>Comparision</a></span><ul class=\"toc-item\"><li><span><a href=\"#check-the-time-complexity\" data-toc-modified-id=\"check-the-time-complexity-2.3.1\"><span class=\"toc-item-num\">2.3.1&nbsp;&nbsp;</span>check the time complexity</a></span></li></ul></li></ul></li></ul></div>"
   ]
  },
  {
   "cell_type": "markdown",
   "metadata": {},
   "source": [
    "# Two sum"
   ]
  },
  {
   "cell_type": "markdown",
   "metadata": {},
   "source": [
    "## Problem Description\n",
    "Given an array of integers, return indices of the two numbers such that they add up to a specific target.\n",
    "\n",
    "You may assume that each input would have exactly one solution, and you may not use the same element twice.\n",
    "\n",
    "Example:\n",
    "\n",
    "Given nums = `[2, 7, 11, 15]`, `target = 9`,\n",
    "\n",
    "Because `nums[0] + nums[1] = 2 + 7 = 9`,\n",
    "return `[0, 1]`."
   ]
  },
  {
   "cell_type": "markdown",
   "metadata": {},
   "source": [
    "## Solution"
   ]
  },
  {
   "cell_type": "markdown",
   "metadata": {},
   "source": [
    "### Brute force\n",
    "The easiest solution to come up with is Brute Force. We could write two for loops to traverse every element, and find the target numbers that meet the requirement."
   ]
  },
  {
   "cell_type": "markdown",
   "metadata": {},
   "source": [
    "#### Algorithm"
   ]
  },
  {
   "cell_type": "code",
   "execution_count": 1,
   "metadata": {
    "cell_style": "split",
    "code_folding": []
   },
   "outputs": [],
   "source": [
    "def two_sum_brute(nums, target):\n",
    "    for ind_first, first in enumerate(nums):\n",
    "        for ind_second, second in enumerate(nums):\n",
    "            if first + second == target:\n",
    "                return [ind_first, ind_second]\n",
    "    print(f\"Error:No such two numbers to meet the target {target}\")"
   ]
  },
  {
   "cell_type": "markdown",
   "metadata": {},
   "source": [
    "Or"
   ]
  },
  {
   "cell_type": "code",
   "execution_count": 2,
   "metadata": {
    "code_folding": []
   },
   "outputs": [],
   "source": [
    "def two_sum_brute_2(nums, target):\n",
    "    for ind_first in range(len(nums)):\n",
    "        for ind_second in range(len(nums)):\n",
    "            if nums[ind_first] + nums[ind_second] == target:\n",
    "                return [ind_first, ind_second]\n",
    "    print(f\"Error: No such two numbers to meet the target {target}\")"
   ]
  },
  {
   "cell_type": "markdown",
   "metadata": {},
   "source": [
    "#### Test"
   ]
  },
  {
   "cell_type": "markdown",
   "metadata": {},
   "source": [
    "##### Normal case"
   ]
  },
  {
   "cell_type": "code",
   "execution_count": 3,
   "metadata": {},
   "outputs": [
    {
     "name": "stdout",
     "output_type": "stream",
     "text": [
      "Solution of two_sum is [0, 1]\n",
      "Solution of two_sum_2 is [0, 1]\n"
     ]
    }
   ],
   "source": [
    "nums = [2, 7, 11, 15]\n",
    "target = 9\n",
    "print(f'Solution of two_sum is {two_sum_brute(nums, target)}')\n",
    "print(f'Solution of two_sum_2 is {two_sum_brute_2(nums, target)}')"
   ]
  },
  {
   "cell_type": "code",
   "execution_count": 4,
   "metadata": {},
   "outputs": [
    {
     "name": "stdout",
     "output_type": "stream",
     "text": [
      "Solution of two_sum is [1, 2]\n",
      "Solution of two_sum_2 is [1, 2]\n"
     ]
    }
   ],
   "source": [
    "nums = [2, 7, 11, 15]\n",
    "target = 18\n",
    "print(f'Solution of two_sum is {two_sum_brute(nums, target)}')\n",
    "print(f'Solution of two_sum_2 is {two_sum_brute_2(nums, target)}')"
   ]
  },
  {
   "cell_type": "code",
   "execution_count": 5,
   "metadata": {},
   "outputs": [
    {
     "name": "stdout",
     "output_type": "stream",
     "text": [
      "Solution of two_sum is [0, 2]\n",
      "Solution of two_sum_2 is [0, 2]\n"
     ]
    }
   ],
   "source": [
    "nums = [7, 7, 11, 15]\n",
    "target = 18\n",
    "print(f'Solution of two_sum is {two_sum_brute(nums, target)}')\n",
    "print(f'Solution of two_sum_2 is {two_sum_brute_2(nums, target)}')"
   ]
  },
  {
   "cell_type": "markdown",
   "metadata": {},
   "source": [
    "##### invalid case"
   ]
  },
  {
   "cell_type": "code",
   "execution_count": 6,
   "metadata": {},
   "outputs": [
    {
     "name": "stdout",
     "output_type": "stream",
     "text": [
      "Error:No such two numbers to meet the target 8\n",
      "Solution of two_sum is None\n",
      "Error: No such two numbers to meet the target 8\n",
      "Solution of two_sum_2 is None\n"
     ]
    }
   ],
   "source": [
    "nums = [2, 7, 11, 15]\n",
    "target = 8\n",
    "print(f'Solution of two_sum is {two_sum_brute(nums, target)}')\n",
    "print(f'Solution of two_sum_2 is {two_sum_brute_2(nums, target)}')"
   ]
  },
  {
   "cell_type": "markdown",
   "metadata": {},
   "source": [
    "### Hash table\n",
    "Apparently, we need to find a way to optimize this solution since the time complexity is too high. \n",
    "\n",
    "What we could do is to create a hash table with the number as a key and index of it as a value. \n",
    "\n",
    "So instead of creating two for loops, we only need loop through each element in the array and check the difference between the element and the target if exists in the hash table. If it does exist, return the indices of both element and the difference. If not, add this number in the hash table. \n",
    "\n",
    "The time complexity of looping each element is `O(N)` and the time complexity of checking difference is also `O(N)`. However, the space complexity of this method is `O(N)`\n"
   ]
  },
  {
   "cell_type": "markdown",
   "metadata": {},
   "source": [
    "#### Algorithm"
   ]
  },
  {
   "cell_type": "code",
   "execution_count": 7,
   "metadata": {},
   "outputs": [],
   "source": [
    "def two_sum_hash(nums, target):\n",
    "    hash_table={}\n",
    "    for ind_element, element in enumerate(nums):\n",
    "        difference = target - element\n",
    "        if difference in hash_table:\n",
    "            return [ind_element, hash_table[difference]]\n",
    "        else:\n",
    "            hash_table[element] = ind_element"
   ]
  },
  {
   "cell_type": "markdown",
   "metadata": {},
   "source": [
    "#### Test"
   ]
  },
  {
   "cell_type": "markdown",
   "metadata": {},
   "source": [
    "##### Normal case"
   ]
  },
  {
   "cell_type": "code",
   "execution_count": 8,
   "metadata": {},
   "outputs": [
    {
     "name": "stdout",
     "output_type": "stream",
     "text": [
      "Solution of two_sum is [1, 0]\n"
     ]
    }
   ],
   "source": [
    "nums = [2, 7, 11, 15]\n",
    "target = 9\n",
    "print(f'Solution of two_sum is {two_sum_hash(nums, target)}')"
   ]
  },
  {
   "cell_type": "code",
   "execution_count": 9,
   "metadata": {},
   "outputs": [
    {
     "name": "stdout",
     "output_type": "stream",
     "text": [
      "Solution of two_sum is [2, 1]\n"
     ]
    }
   ],
   "source": [
    "nums = [2, 7, 11, 15]\n",
    "target = 18\n",
    "print(f'Solution of two_sum is {two_sum_hash(nums, target)}')"
   ]
  },
  {
   "cell_type": "code",
   "execution_count": 10,
   "metadata": {},
   "outputs": [
    {
     "name": "stdout",
     "output_type": "stream",
     "text": [
      "Solution of two_sum is [2, 1]\n"
     ]
    }
   ],
   "source": [
    "nums = [7, 7, 11, 15]\n",
    "target = 18\n",
    "print(f'Solution of two_sum is {two_sum_hash(nums, target)}')"
   ]
  },
  {
   "cell_type": "markdown",
   "metadata": {},
   "source": [
    "##### invalid case"
   ]
  },
  {
   "cell_type": "code",
   "execution_count": 11,
   "metadata": {},
   "outputs": [
    {
     "name": "stdout",
     "output_type": "stream",
     "text": [
      "Solution of two_sum is None\n"
     ]
    }
   ],
   "source": [
    "nums = [2, 7, 11, 15]\n",
    "target = 8\n",
    "print(f'Solution of two_sum is {two_sum_hash(nums, target)}')"
   ]
  },
  {
   "cell_type": "markdown",
   "metadata": {},
   "source": [
    "### Comparision\n",
    "|Algorithms|time complexity|space complexity|\n",
    "|-|-|-|\n",
    "|Brute force|`O(N^2)`|`O(1)`|\n",
    "|Hash table|`O(2N)`|`O(N)`|\n"
   ]
  },
  {
   "cell_type": "markdown",
   "metadata": {},
   "source": [
    "#### check the time complexity"
   ]
  },
  {
   "cell_type": "code",
   "execution_count": null,
   "metadata": {},
   "outputs": [],
   "source": [
    "N = 1e3;"
   ]
  },
  {
   "cell_type": "code",
   "execution_count": null,
   "metadata": {},
   "outputs": [],
   "source": []
  }
 ],
 "metadata": {
  "kernelspec": {
   "display_name": "Python 3",
   "language": "python",
   "name": "python3"
  },
  "language_info": {
   "codemirror_mode": {
    "name": "ipython",
    "version": 3
   },
   "file_extension": ".py",
   "mimetype": "text/x-python",
   "name": "python",
   "nbconvert_exporter": "python",
   "pygments_lexer": "ipython3",
   "version": "3.7.6"
  },
  "toc": {
   "base_numbering": 1,
   "nav_menu": {},
   "number_sections": true,
   "sideBar": true,
   "skip_h1_title": true,
   "title_cell": "Table of Contents",
   "title_sidebar": "Contents",
   "toc_cell": true,
   "toc_position": {},
   "toc_section_display": true,
   "toc_window_display": true
  }
 },
 "nbformat": 4,
 "nbformat_minor": 4
}
